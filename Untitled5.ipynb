{
  "nbformat": 4,
  "nbformat_minor": 0,
  "metadata": {
    "colab": {
      "provenance": [],
      "authorship_tag": "ABX9TyMDdZ4M3T/IL65Qq77qAD/I",
      "include_colab_link": true
    },
    "kernelspec": {
      "name": "python3",
      "display_name": "Python 3"
    },
    "language_info": {
      "name": "python"
    }
  },
  "cells": [
    {
      "cell_type": "markdown",
      "metadata": {
        "id": "view-in-github",
        "colab_type": "text"
      },
      "source": [
        "<a href=\"https://colab.research.google.com/github/Jasmithanalla/ICP-3/blob/main/Untitled5.ipynb\" target=\"_parent\"><img src=\"https://colab.research.google.com/assets/colab-badge.svg\" alt=\"Open In Colab\"/></a>"
      ]
    },
    {
      "cell_type": "code",
      "execution_count": 1,
      "metadata": {
        "colab": {
          "base_uri": "https://localhost:8080/"
        },
        "id": "gLT6BJyffSit",
        "outputId": "7573ad9d-a1c7-4179-d71d-fe850fe40136"
      },
      "outputs": [
        {
          "output_type": "stream",
          "name": "stdout",
          "text": [
            "Shape of array: (3, 5)\n",
            "Modified array:\n",
            " [[ 1  6 11  0 14]\n",
            " [ 0 13 15 11  3]\n",
            " [ 0 14 12  8 11]]\n"
          ]
        }
      ],
      "source": [
        "import numpy as np\n",
        "\n",
        "# 1. Create random vector\n",
        "vec = np.random.randint(1, 21, size=15)\n",
        "\n",
        "# 2. Reshape to 3x5\n",
        "reshaped_vec = vec.reshape(3, 5)\n",
        "\n",
        "# 3. Print shape\n",
        "print(\"Shape of array:\", reshaped_vec.shape)\n",
        "\n",
        "# 4. Replace max in each row with 0\n",
        "for i in range(reshaped_vec.shape[0]):\n",
        "    max_index = reshaped_vec[i].argmax()\n",
        "    reshaped_vec[i][max_index] = 0\n",
        "\n",
        "print(\"Modified array:\\n\", reshaped_vec)"
      ]
    },
    {
      "cell_type": "code",
      "source": [
        "# Create 4x3 array of 4-byte integers\n",
        "arr = np.zeros((4, 3), dtype=np.int32)\n",
        "\n",
        "print(\"Array:\\n\", arr)\n",
        "print(\"Shape:\", arr.shape)\n",
        "print(\"Type:\", type(arr))\n",
        "print(\"Data type:\", arr.dtype)"
      ],
      "metadata": {
        "colab": {
          "base_uri": "https://localhost:8080/"
        },
        "id": "CWKyQUsPfat4",
        "outputId": "91e0f885-2387-4758-c381-6d4ceb373a8d"
      },
      "execution_count": 2,
      "outputs": [
        {
          "output_type": "stream",
          "name": "stdout",
          "text": [
            "Array:\n",
            " [[0 0 0]\n",
            " [0 0 0]\n",
            " [0 0 0]\n",
            " [0 0 0]]\n",
            "Shape: (4, 3)\n",
            "Type: <class 'numpy.ndarray'>\n",
            "Data type: int32\n"
          ]
        }
      ]
    },
    {
      "cell_type": "code",
      "source": [
        "# Define the array\n",
        "matrix = np.array([[3, -2],\n",
        "                   [1,  0]])\n",
        "\n",
        "# Compute eigenvalues and right eigenvectors\n",
        "eigenvalues, eigenvectors = np.linalg.eig(matrix)\n",
        "\n",
        "print(\"Eigenvalues:\", eigenvalues)\n",
        "print(\"Eigenvectors:\\n\", eigenvectors)"
      ],
      "metadata": {
        "colab": {
          "base_uri": "https://localhost:8080/"
        },
        "id": "mtgrUd7NfcYO",
        "outputId": "d3a77bd4-981b-4e2b-fd9f-1ef7efe4012a"
      },
      "execution_count": 3,
      "outputs": [
        {
          "output_type": "stream",
          "name": "stdout",
          "text": [
            "Eigenvalues: [2. 1.]\n",
            "Eigenvectors:\n",
            " [[0.89442719 0.70710678]\n",
            " [0.4472136  0.70710678]]\n"
          ]
        }
      ]
    },
    {
      "cell_type": "code",
      "source": [
        "# Original 3x2 array\n",
        "original_array = np.array([[1, 2],\n",
        "                           [3, 4],\n",
        "                           [5, 6]])\n",
        "\n",
        "# Reshape to 2x3\n",
        "reshaped_array = original_array.reshape(2, 3)\n",
        "\n",
        "print(\"Reshaped 2x3 array:\\n\", reshaped_array)"
      ],
      "metadata": {
        "colab": {
          "base_uri": "https://localhost:8080/"
        },
        "id": "YR-n8sPWffvf",
        "outputId": "4f16915e-d294-4f1d-ed2c-991051a3e4b9"
      },
      "execution_count": 4,
      "outputs": [
        {
          "output_type": "stream",
          "name": "stdout",
          "text": [
            "Reshaped 2x3 array:\n",
            " [[1 2 3]\n",
            " [4 5 6]]\n"
          ]
        }
      ]
    }
  ]
}